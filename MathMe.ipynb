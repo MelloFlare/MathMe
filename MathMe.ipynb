{
 "cells": [
  {
   "cell_type": "code",
   "execution_count": 1,
   "metadata": {},
   "outputs": [],
   "source": [
    "from openai import OpenAI\n",
    "import secrets_1\n",
    "\n",
    "client = OpenAI(api_key=secrets_1.api_key)\n",
    "model = \"gpt-4\""
   ]
  },
  {
   "cell_type": "code",
   "execution_count": 2,
   "metadata": {},
   "outputs": [],
   "source": [
    "def ask_question(messages, model):\n",
    "\n",
    "    \"\"\"\n",
    "    Function That Asks GPT  A 4Question\n",
    "    \"\"\"\n",
    "\n",
    "    # set up the question here\n",
    "    # ask gpt-4 the question\n",
    "    response = client.chat.completions.create(\n",
    "        model=model,\n",
    "        messages=messages\n",
    "    )\n",
    "\n",
    "    # return the answer\n",
    "    return response"
   ]
  },
  {
   "cell_type": "code",
   "execution_count": 3,
   "metadata": {},
   "outputs": [],
   "source": [
    "def generate_message(questions):\n",
    "    messages = []\n",
    "    for question in questions:\n",
    "        message = {\n",
    "            \"role\":\"user\",\n",
    "            \"content\":question\n",
    "        }\n",
    "\n",
    "        messages.append(message)\n",
    "\n",
    "    return messages\n",
    "    "
   ]
  },
  {
   "cell_type": "code",
   "execution_count": 4,
   "metadata": {},
   "outputs": [],
   "source": [
    "def print_response(response):\n",
    "    content = response.choices[0].message.content\n",
    "    print(content)\n",
    "    return content"
   ]
  },
  {
   "cell_type": "code",
   "execution_count": 5,
   "metadata": {},
   "outputs": [],
   "source": [
    "def each_step(array):\n",
    "    oldA = array\n",
    "    newA = []\n",
    "    for elemets in oldA:\n",
    "        if( elemets != ' ' and elemets[1] == \".\" or elemets[2] == '.'):\n",
    "            newA.append(elemets)\n",
    "\n",
    "    return newA"
   ]
  },
  {
   "cell_type": "code",
   "execution_count": 6,
   "metadata": {},
   "outputs": [],
   "source": [
    "def ask_step(steps):\n",
    "    all_step = steps\n",
    "    \n",
    "    for element in all_step:\n",
    "        questions = [str(element + \" ask a question that lead to this\")]\n",
    "        message = generate_message(questions)\n",
    "        response = ask_question(message, model)\n",
    "        x = response\n",
    "        print_response(response)\n",
    "        \n",
    "\n",
    "        "
   ]
  },
  {
   "cell_type": "code",
   "execution_count": 7,
   "metadata": {},
   "outputs": [
    {
     "name": "stdout",
     "output_type": "stream",
     "text": [
      "1. Let x = 2u, then dx = 2du.\n",
      "2. Replace x with 2u in the original integral, ∫1/sin(x) dx becomes ∫1/sin(2u) * 2 du.\n",
      "3. Replace sin(2u) with 2sinucosu to get: ∫1/(2sinucosu) * 2 du, which simplifies to ∫(sinu^2 + cosu^2 )/(sinu * cosu) du.\n",
      "4. Using trigonometric identity sinu^2 + cosu^2 = 1, the integral becomes ∫(1/sinucosu) du.\n",
      "5. Simplify this to ∫(sinu/cosu + cosu/sinu) du, which can be split into two separate integrals: ∫sinu/cosu du + ∫cosu / sinu du.\n",
      "6. Substitute m = sinu, dm = cosu du for the first integral and n = cosu, dn = -sinu du for the second integral.\n",
      "7. Solving these two integrals gives ∫1/m dm and ∫1/n dn, which become ln|m| and ln|n| respectively.\n",
      "8. The original integral thus becomes ln|m| - ln|n| + C.\n",
      "9. Apply the log rule to combine the two logs: ln|m/n| + C.\n",
      "10. Replace m and n with sinu and cosu to get ln|sinu/cosu| + C.\n",
      "11. Which simplifies to ln|tanu| + C.\n",
      "12. Finally, substitute u back with x/2 to get the final answer: ln|tan(x/2)| + C.\n",
      "['1. Let x = 2u, then dx = 2du.', '2. Replace x with 2u in the original integral, ∫1/sin(x) dx becomes ∫1/sin(2u) * 2 du.', '3. Replace sin(2u) with 2sinucosu to get: ∫1/(2sinucosu) * 2 du, which simplifies to ∫(sinu^2 + cosu^2 )/(sinu * cosu) du.', '4. Using trigonometric identity sinu^2 + cosu^2 = 1, the integral becomes ∫(1/sinucosu) du.', '5. Simplify this to ∫(sinu/cosu + cosu/sinu) du, which can be split into two separate integrals: ∫sinu/cosu du + ∫cosu / sinu du.', '6. Substitute m = sinu, dm = cosu du for the first integral and n = cosu, dn = -sinu du for the second integral.', '7. Solving these two integrals gives ∫1/m dm and ∫1/n dn, which become ln|m| and ln|n| respectively.', '8. The original integral thus becomes ln|m| - ln|n| + C.', '9. Apply the log rule to combine the two logs: ln|m/n| + C.', '10. Replace m and n with sinu and cosu to get ln|sinu/cosu| + C.', '11. Which simplifies to ln|tanu| + C.', '12. Finally, substitute u back with x/2 to get the final answer: ln|tan(x/2)| + C.']\n",
      "['1. Let x = 2u, then dx = 2du.', '2. Replace x with 2u in the original integral, ∫1/sin(x) dx becomes ∫1/sin(2u) * 2 du.', '3. Replace sin(2u) with 2sinucosu to get: ∫1/(2sinucosu) * 2 du, which simplifies to ∫(sinu^2 + cosu^2 )/(sinu * cosu) du.', '4. Using trigonometric identity sinu^2 + cosu^2 = 1, the integral becomes ∫(1/sinucosu) du.', '5. Simplify this to ∫(sinu/cosu + cosu/sinu) du, which can be split into two separate integrals: ∫sinu/cosu du + ∫cosu / sinu du.', '6. Substitute m = sinu, dm = cosu du for the first integral and n = cosu, dn = -sinu du for the second integral.', '7. Solving these two integrals gives ∫1/m dm and ∫1/n dn, which become ln|m| and ln|n| respectively.', '8. The original integral thus becomes ln|m| - ln|n| + C.', '9. Apply the log rule to combine the two logs: ln|m/n| + C.', '10. Replace m and n with sinu and cosu to get ln|sinu/cosu| + C.', '11. Which simplifies to ln|tanu| + C.', '12. Finally, substitute u back with x/2 to get the final answer: ln|tan(x/2)| + C.']\n",
      "What substitution can we use if we have an integral with respect to x and we want to change the variable to u, specifically in the case where x = 2u?\n",
      "How would the original integral, ∫1/sin(x) dx, change if we were to use a substitution method where x is replaced with 2u?\n",
      "What is the integral of (sinu^2 + cosu^2 )/(sinu * cosu) with respect to u, after substituting sin(2u) with 2sinucosu?\n",
      "What is the integral of secu*tanu with respect to u, given the trigonometric identity sin^2(u) + cos^2(u) = 1?\n",
      "What is the integral of (sinu/cosu + cosu/sinu) with respect to u?\n",
      "What are the substitutions needed to solve the integrals with respect to m and n, if m is equal to sinu and n is equal to cosu?\n",
      "What are the integrals of ∫1/m dm and ∫1/n dn?\n",
      "What is the antiderivative of 1/m - 1/n, where m and n are variables?\n",
      "What is the combined form of the logarithmic expression ln|m/n| + ln(C)?\n",
      "What is the integral of secu*tanu du?\n",
      "What is the integral of cot(u)?\n",
      "What is the integral of cot(x)dx?\n"
     ]
    }
   ],
   "source": [
    "\n",
    "#Setup = [\"Use Step by Step format to answer future questions]\n",
    "questions = [\"Say hi\", \"\"\"Solve the integral of 1/sin(x), and give me in steps, first substitute x = 2u , \n",
    "             dx = 2du, then sin(2u) = 2sinucosu, then use the identity of 1 = sin(x)^2+cos(x)^2, , so that the integral become (sin(u)^2 + cos(u)^2 )/ sinu cosu, then reduced into two integrals, sinu/cosu and cosu/sinu, then let m = sinu , dm = cosu, and n = cosu , dn = -sinu, , the two integrals become 1/m and 1/n. then solve the integral to ln(m) - ln(n) +c , then use the identity of ln(m) - ln(n) = ln(m/n) +c. Then recall m = sinu, n = cosu, the equation become ln(sinu/cosu)+c which is lm(tanu)+c. Then recall x = 2u, so the final solution is ln(tan(x/2))+c Stay only on this approach, Keep each step in one line and number each step\"\"\"]\n",
    "#questions = [\"what is (1 + 1)* 2 - 3 show each step\"]\n",
    "messages = generate_message(questions)\n",
    "response = ask_question(messages, model)\n",
    "t = print_response(response)\n",
    "\n",
    "#questions = [\"what math knowledge should the solver now for each step at that level?\"]\n",
    "#message2 = generate_message(questions)\n",
    "#response2 = ask_question(message2, model)\n",
    "#print_response(response2)\n",
    "\n",
    "x = t.splitlines()\n",
    "print(x)\n",
    "y = each_step(x)\n",
    "test = \"test\"\n",
    "print(y)\n",
    "\n",
    "ask_step(y)\n",
    "\n"
   ]
  }
 ],
 "metadata": {
  "kernelspec": {
   "display_name": "base",
   "language": "python",
   "name": "python3"
  },
  "language_info": {
   "codemirror_mode": {
    "name": "ipython",
    "version": 3
   },
   "file_extension": ".py",
   "mimetype": "text/x-python",
   "name": "python",
   "nbconvert_exporter": "python",
   "pygments_lexer": "ipython3",
   "version": "3.12.2"
  }
 },
 "nbformat": 4,
 "nbformat_minor": 2
}
