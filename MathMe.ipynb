{
 "cells": [
  {
   "cell_type": "code",
   "execution_count": 1,
   "metadata": {},
   "outputs": [],
   "source": [
    "from openai import OpenAI\n",
    "import secrets_1\n",
    "\n",
    "client = OpenAI(api_key=secrets_1.api_key)\n",
    "model = \"gpt-4\""
   ]
  },
  {
   "cell_type": "code",
   "execution_count": 2,
   "metadata": {},
   "outputs": [],
   "source": [
    "def ask_question(messages, model):\n",
    "\n",
    "    \"\"\"\n",
    "    Function That Asks GPT 4 A Question\n",
    "    \"\"\"\n",
    "\n",
    "    # set up the question here\n",
    "    # ask gpt-3.5 the question\n",
    "    response = client.chat.completions.create(\n",
    "        model=model,\n",
    "        messages=messages\n",
    "    )\n",
    "\n",
    "    # return the answer\n",
    "    return response"
   ]
  },
  {
   "cell_type": "code",
   "execution_count": 3,
   "metadata": {},
   "outputs": [],
   "source": [
    "def generate_message(questions):\n",
    "    messages = []\n",
    "    for question in questions:\n",
    "        message = {\n",
    "            \"role\":\"user\",\n",
    "            \"content\":question\n",
    "        }\n",
    "\n",
    "        messages.append(message)\n",
    "\n",
    "    return messages\n",
    "    "
   ]
  },
  {
   "cell_type": "code",
   "execution_count": 4,
   "metadata": {},
   "outputs": [],
   "source": [
    "def print_response(response):\n",
    "    content = response.choices[0].message.content\n",
    "    print(content)\n",
    "    return content"
   ]
  },
  {
   "cell_type": "code",
   "execution_count": 5,
   "metadata": {},
   "outputs": [],
   "source": [
    "def each_step(array):\n",
    "    oldA = array\n",
    "    newA = []\n",
    "    for elemets in oldA:\n",
    "        if( elemets != ' ' and elemets[1] == \".\" or elemets[2] == '.'):\n",
    "            newA.append(elemets)\n",
    "\n",
    "    return newA"
   ]
  },
  {
   "cell_type": "code",
   "execution_count": 6,
   "metadata": {},
   "outputs": [],
   "source": [
    "def ask_step(steps):\n",
    "    all_step = steps\n",
    "    \n",
    "    for element in all_step:\n",
    "        questions = [str(element + \" ask a question that lead to this\")]\n",
    "        message = generate_message(questions)\n",
    "        response = ask_question(message, model)\n",
    "        print_response(response)"
   ]
  },
  {
   "cell_type": "code",
   "execution_count": 7,
   "metadata": {},
   "outputs": [
    {
     "name": "stdout",
     "output_type": "stream",
     "text": [
      "1. Start with the integral of 1/sin(x)\n",
      "2. Perform substitution, set x = 2u, so dx = 2du\n",
      "3. Adjust integral to account for dx, making it integral of 2/sin(2u)\n",
      "4. Use double angle formula, changing sin(2u) to 2sin(u)cos(u)\n",
      "5. Simplify integral to 1/(sin(u)cos(u))\n",
      "6. Use Pythagorean identity for sine and cosine 1 = sin(u)² + cos(u)²\n",
      "7. Change integral to {sin(u)² + cos(u)² }/ sin(u)cos(u)\n",
      "8. Split into two integrals: integral of sin(u)/cos(u) + integral of cos(u)/sin(u)\n",
      "9. Perform u-substitution for each integral. Let m = sin(u), so dm = cos(u) du for the first. Let n = cos(u), so dn = -sin(u) du for the second\n",
      "10. Change integral to integral of 1/m dm - integral of 1/n dn\n",
      "11. Integrate each term to yield ln|m| - ln|n| + c\n",
      "12. Use properties of logarithms to combine: ln|m/n| + c\n",
      "13. Recall that m = sin(u) and n = cos(u), so substitute these back in to get ln|sin(u)/cos(u)| + c\n",
      "14. Simplify to ln|tan(u)| + c\n",
      "15. Substitute original variable, remembering that u = x/2, to get ln|tan(x/2)| + c\n",
      "16. Here, the solution is ln|tan(x/2)| + c\n",
      "['1. Start with the integral of 1/sin(x)', '2. Perform substitution, set x = 2u, so dx = 2du', '3. Adjust integral to account for dx, making it integral of 2/sin(2u)', '4. Use double angle formula, changing sin(2u) to 2sin(u)cos(u)', '5. Simplify integral to 1/(sin(u)cos(u))', '6. Use Pythagorean identity for sine and cosine 1 = sin(u)² + cos(u)²', '7. Change integral to {sin(u)² + cos(u)² }/ sin(u)cos(u)', '8. Split into two integrals: integral of sin(u)/cos(u) + integral of cos(u)/sin(u)', '9. Perform u-substitution for each integral. Let m = sin(u), so dm = cos(u) du for the first. Let n = cos(u), so dn = -sin(u) du for the second', '10. Change integral to integral of 1/m dm - integral of 1/n dn', '11. Integrate each term to yield ln|m| - ln|n| + c', '12. Use properties of logarithms to combine: ln|m/n| + c', '13. Recall that m = sin(u) and n = cos(u), so substitute these back in to get ln|sin(u)/cos(u)| + c', '14. Simplify to ln|tan(u)| + c', '15. Substitute original variable, remembering that u = x/2, to get ln|tan(x/2)| + c', '16. Here, the solution is ln|tan(x/2)| + c']\n",
      "['1. Start with the integral of 1/sin(x)', '2. Perform substitution, set x = 2u, so dx = 2du', '3. Adjust integral to account for dx, making it integral of 2/sin(2u)', '4. Use double angle formula, changing sin(2u) to 2sin(u)cos(u)', '5. Simplify integral to 1/(sin(u)cos(u))', '6. Use Pythagorean identity for sine and cosine 1 = sin(u)² + cos(u)²', '7. Change integral to {sin(u)² + cos(u)² }/ sin(u)cos(u)', '8. Split into two integrals: integral of sin(u)/cos(u) + integral of cos(u)/sin(u)', '9. Perform u-substitution for each integral. Let m = sin(u), so dm = cos(u) du for the first. Let n = cos(u), so dn = -sin(u) du for the second', '10. Change integral to integral of 1/m dm - integral of 1/n dn', '11. Integrate each term to yield ln|m| - ln|n| + c', '12. Use properties of logarithms to combine: ln|m/n| + c', '13. Recall that m = sin(u) and n = cos(u), so substitute these back in to get ln|sin(u)/cos(u)| + c', '14. Simplify to ln|tan(u)| + c', '15. Substitute original variable, remembering that u = x/2, to get ln|tan(x/2)| + c', '16. Here, the solution is ln|tan(x/2)| + c']\n",
      "What is the integral of the function, csc(x), which is the reciprocal of sin(x)?\n",
      "What transformation or substitution should we make if we are trying to integrate a function involving x, and we want to change the variable to u with the relation x = 2u?\n",
      "What is the integral of the function 2/sin(2u) with respect to u?\n",
      "What is the equivalent expression for sin(2u) using the double angle formula in terms of sin(u) and cos(u)?\n",
      "The integral of 1/(sin(u)cos(u)) is simplified by turning it into a cosec+sec function which becomes 1/sin(u)/cos(u) = cot(u) + tan(u), so the integral of 1/(sin(u)cos(u)) du = lncos(u) - lnsin(u) + C.\n",
      "\n",
      "A possible question that led to this could be: What is the indefinite integral of 1/(sin(u)cos(u))?\n",
      "What identity can we form using the square of sine and cosine values for the same angle?\n",
      "What is the integral of {sin(u)² + cos(u)² }/ sin(u)cos(u)?\n",
      "Question: Evaluate the integral of (sin(u)/cos(u)) + (cos(u)/sin(u)).\n",
      "The question that would lead to this would be: \n",
      "\n",
      "\"Given the integral ∫f(sin(u))cos(u) du and ∫f(cos(u))(-sin(u)) du, could you perform a u-substitution using m = sin(u), dm = cos(u) du for the first integral and n = cos(u), dn = -sin(u) du for the second integral?\"\n",
      "What is the equation obtained by integrating the reciprocals of two distinct variables m and n, with respect to m and n respectively, and subtracting the two?\n",
      "What is the integral of 1/m - 1/n with respect to x?\n",
      "\"What is the simplified form of the expression ln|m/n| + c?\"\n",
      "What is the general solution to the differential equation dy/dx = y tan(x) in terms of sin(u) and cos(u)?\n",
      "What is the integral of cot(u)?\n",
      "What is the integral of cot(x) with respect to x?\n",
      "What is the integral of cot(x)/2 with respect to x?\n"
     ]
    }
   ],
   "source": [
    "\n",
    "#Setup = [\"Use Step by Step format to answer future questions]\n",
    "questions = [\"Say hi\", \"\"\"Solve the integral of 1/sin(x), and give me in steps, first substitute x = 2u , \n",
    "             dx = 2du, then sin(2u) = 2sinucosu, then use the identity of 1 = sin(x)^2+cos(x)^2, , so that the integral become (sin(u)^2 + cos(u)^2 )/ sinu cosu, then reduced into two integrals, sinu/cosu and cosu/sinu, then let m = sinu , dm = cosu, and n = cosu , dn = -sinu, , the two integrals become 1/m and 1/n. then solve the integral to ln(m) - ln(n) +c , then use the identity of ln(m) - ln(n) = ln(m/n) +c. Then recall m = sinu, n = cosu, the equation become ln(sinu/cosu)+c which is lm(tanu)+c. Then recall x = 2u, so the final solution is ln(tan(x/2))+c Stay only on this approach, Keep each step in one line and number each step\"\"\"]\n",
    "#questions = [\"what is (1 + 1)* 2 - 3 show each step\"]\n",
    "messages = generate_message(questions)\n",
    "response = ask_question(messages, model)\n",
    "t = print_response(response)\n",
    "\n",
    "#questions = [\"what math knowledge should the solver now for each step at that level?\"]\n",
    "#message2 = generate_message(questions)\n",
    "#response2 = ask_question(message2, model)\n",
    "#print_response(response2)\n",
    "\n",
    "x = t.splitlines()\n",
    "print(x)\n",
    "y = each_step(x)\n",
    "test = \"test\"\n",
    "print(y)\n",
    "\n",
    "ask_step(y)\n",
    "\n"
   ]
  },
  {
   "cell_type": "code",
   "execution_count": null,
   "metadata": {},
   "outputs": [],
   "source": []
  }
 ],
 "metadata": {
  "kernelspec": {
   "display_name": "base",
   "language": "python",
   "name": "python3"
  },
  "language_info": {
   "codemirror_mode": {
    "name": "ipython",
    "version": 3
   },
   "file_extension": ".py",
   "mimetype": "text/x-python",
   "name": "python",
   "nbconvert_exporter": "python",
   "pygments_lexer": "ipython3",
   "version": "3.12.2"
  }
 },
 "nbformat": 4,
 "nbformat_minor": 2
}
