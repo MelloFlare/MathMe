{
 "cells": [
  {
   "cell_type": "code",
   "execution_count": 26,
   "metadata": {},
   "outputs": [],
   "source": [
    "from openai import OpenAI\n",
    "import secrets\n",
    "\n",
    "client = OpenAI(api_key=secrets.api_key)\n",
    "model = \"gpt-3.5-turbo\""
   ]
  },
  {
   "cell_type": "code",
   "execution_count": 27,
   "metadata": {},
   "outputs": [],
   "source": [
    "def ask_question(messages, model):\n",
    "\n",
    "    \"\"\"\n",
    "    Function That Asks GPT 3.5 A Question\n",
    "    \"\"\"\n",
    "\n",
    "    # set up the question here\n",
    "    # ask gpt-3.5 the question\n",
    "    response = client.chat.completions.create(\n",
    "        model=model,\n",
    "        messages=messages\n",
    "    )\n",
    "\n",
    "    # return the answer\n",
    "    return response"
   ]
  },
  {
   "cell_type": "code",
   "execution_count": 28,
   "metadata": {},
   "outputs": [],
   "source": [
    "def generate_message(questions):\n",
    "    messages = []\n",
    "    for question in questions:\n",
    "        message = {\n",
    "            \"role\":\"user\",\n",
    "            \"content\":question\n",
    "        }\n",
    "\n",
    "        messages.append(message)\n",
    "\n",
    "    return messages\n",
    "    "
   ]
  },
  {
   "cell_type": "code",
   "execution_count": 29,
   "metadata": {},
   "outputs": [],
   "source": [
    "def print_response(response):\n",
    "    content = response.choices[0].message.content\n",
    "    print(content)"
   ]
  },
  {
   "cell_type": "code",
   "execution_count": 30,
   "metadata": {},
   "outputs": [
    {
     "name": "stdout",
     "output_type": "stream",
     "text": [
      "Yes, I am sure. Let's solve the integral of 1/sin(x) step by step. \n",
      "\n",
      "1. First, we can use the trigonometric identity: csc(x) = 1/sin(x). \n",
      "So, we rewrite the integral as the integral of csc(x) dx. \n",
      "\n",
      "∫ (1/sin(x)) dx = ∫ csc(x) dx\n",
      "\n",
      "2. Next, to solve the integral of csc(x) dx, we can apply the substitution method. Let u = csc(x) and du = -csc(x) cot(x) dx. \n",
      "\n",
      "3. We can rewrite the differential equation as -du = csc(x) cot(x) dx. \n",
      "   \n",
      "4. Now, substitute u = csc(x) and -du = csc(x) cot(x) dx back into the integral:\n",
      "\n",
      "∫ csc(x) dx = ∫ -du \n",
      "             \n",
      "5. The integral of -du is simply -u + C, where C is the constant of integration. \n",
      "\n",
      "6. Substituting back u = csc(x), we get the final result:\n",
      "\n",
      "∫ csc(x) dx = -csc(x) + C\n",
      "\n",
      "Therefore, the integral of 1/sin(x) = -csc(x) + C.\n"
     ]
    }
   ],
   "source": [
    "questions = [\"Solve the integral of 1/sin(x), and give me in steps, first substitute x = 2u , dx = 2du, then sin(2u) = 2sinucosu, then use the identity of 1 = sin(x)^2+cos(x)^2, , so that the integral become (sin(u)^2 + cos(u)^2 )/ sinu cosu, then reduced into two integrals, sinu/cosu and cosu/sinu, then let m = sinu , dm = cosu, and n = cosu , dn = -sinu, , the two integrals become 1/m and 1/n. then solve the integral to ln(m) - ln(n), then use the identity of ln(m) - ln(n) = ln(m/n). Stay only on this approach.\"]\n",
    "\n",
    "messages = generate_message(questions)\n",
    "response = ask_question(messages, model)\n",
    "print_response(response)"
   ]
  },
  {
   "cell_type": "code",
   "execution_count": null,
   "metadata": {},
   "outputs": [],
   "source": []
  }
 ],
 "metadata": {
  "kernelspec": {
   "display_name": "base",
   "language": "python",
   "name": "python3"
  },
  "language_info": {
   "codemirror_mode": {
    "name": "ipython",
    "version": 3
   },
   "file_extension": ".py",
   "mimetype": "text/x-python",
   "name": "python",
   "nbconvert_exporter": "python",
   "pygments_lexer": "ipython3",
   "version": "3.12.2"
  }
 },
 "nbformat": 4,
 "nbformat_minor": 2
}
